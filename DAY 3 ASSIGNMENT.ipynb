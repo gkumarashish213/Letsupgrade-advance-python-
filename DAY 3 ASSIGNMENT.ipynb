{
 "cells": [
  {
   "cell_type": "markdown",
   "metadata": {},
   "source": [
    "# Find all occurrences of a given item in the list \n",
    "I. list3 = [\"192.168.10.9\", \"192.168.10.4\", \"192.168.10.11\", \"192.168.10.35\"]  "
   ]
  },
  {
   "cell_type": "code",
   "execution_count": 6,
   "metadata": {},
   "outputs": [
    {
     "name": "stdout",
     "output_type": "stream",
     "text": [
      "['192.168.10.4', '192.168.10.9', '192.168.10.11', '192.168.10.35']\n"
     ]
    }
   ],
   "source": [
    "def fun1(x): \n",
    "\n",
    "    return x[1]  \n",
    "\n",
    "  \n",
    "# list3 to demonstrate the use of sorting  \n",
    "# using using second key  \n",
    "\n",
    "list3 =[\"192.168.10.4\", \"192.168.10.9\", \"192.168.10.11\", \"192.168.10.35\"]\n",
    "\n",
    "  \n",
    "# sorts the array in ascending according to  \n",
    "# second element \n",
    "\n",
    "list3.sort(key=fun1)  \n",
    "\n",
    "print(list3)"
   ]
  },
  {
   "cell_type": "markdown",
   "metadata": {},
   "source": [
    "# II. list1 = [1,2,3,0,2,3,0,1,24,0,1,3,1,0,1,21,0,1,2,0,45] \n",
    "list1.sort() \n",
    "\n",
    "print(list1) "
   ]
  },
  {
   "cell_type": "code",
   "execution_count": 4,
   "metadata": {},
   "outputs": [
    {
     "name": "stdout",
     "output_type": "stream",
     "text": [
      "[1, 1, 1, 1, 1, 1, 2, 2, 2, 3, 3, 3, 21, 24, 45, 0, 0, 0, 0, 0, 0]\n"
     ]
    }
   ],
   "source": [
    "list1 =[1,2,3,0,2,3,0,1,24,0,1,3,1,0,1,21,0,1,2,0,45]\n",
    "\n",
    "list1.sort()\n",
    "\n",
    "b=list1.count(0)\n",
    "\n",
    "print(list1[b:] + list1[:b])"
   ]
  },
  {
   "cell_type": "markdown",
   "metadata": {},
   "source": [
    "# III. list1 = [(10,4),(90,3),(9,1),(10,4),(9,5)] \n",
    "def fun1(x): \n",
    "\n",
    "????\n",
    "\n",
    "list1.sort(key = fun1)\n",
    "\n",
    "print (list1)\n"
   ]
  },
  {
   "cell_type": "code",
   "execution_count": 5,
   "metadata": {},
   "outputs": [
    {
     "name": "stdout",
     "output_type": "stream",
     "text": [
      "[(9, 1), (90, 3), (10, 4), (10, 4), (9, 5)]\n"
     ]
    }
   ],
   "source": [
    "def fun1(x): \n",
    "\n",
    "    return x[1]  \n",
    "\n",
    "  \n",
    "# list1 to demonstrate the use of sorting  \n",
    "# using using second key  \n",
    "\n",
    "list1 = [(10,4),(90,3),(9,1),(10,4),(9,5)] \n",
    "\n",
    "  \n",
    "# sorts the array in ascending according to  \n",
    "# second element \n",
    "\n",
    "list1.sort(key=fun1)  \n",
    "\n",
    "print(list1)"
   ]
  },
  {
   "cell_type": "code",
   "execution_count": null,
   "metadata": {},
   "outputs": [],
   "source": []
  }
 ],
 "metadata": {
  "kernelspec": {
   "display_name": "Python 3",
   "language": "python",
   "name": "python3"
  },
  "language_info": {
   "codemirror_mode": {
    "name": "ipython",
    "version": 3
   },
   "file_extension": ".py",
   "mimetype": "text/x-python",
   "name": "python",
   "nbconvert_exporter": "python",
   "pygments_lexer": "ipython3",
   "version": "3.7.4"
  }
 },
 "nbformat": 4,
 "nbformat_minor": 2
}
